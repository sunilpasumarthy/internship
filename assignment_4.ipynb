{
 "cells": [
  {
   "cell_type": "code",
   "execution_count": null,
   "id": "f551ba88",
   "metadata": {},
   "outputs": [],
   "source": [
    "num=int(input('Enter a number to find factorial'))\n",
    "f=num\n",
    "while(True):\n",
    "    num=num-1\n",
    "    if(num==1):\n",
    "        break\n",
    "    else:\n",
    "        f=f*num\n",
    "        continue\n",
    "print('Factorial is ', f)        \n",
    "        "
   ]
  },
  {
   "cell_type": "code",
   "execution_count": null,
   "id": "29df0adf",
   "metadata": {},
   "outputs": [],
   "source": [
    "# Prime or composite\n",
    "num=int(input('Enter a number'))\n",
    "i=num\n",
    "\n",
    "if(i==1):\n",
    "    print(num,' is neither prime nor composite')\n",
    "        \n",
    "elif(i==2):\n",
    "    print(num,\" is prime\")\n",
    "else:\n",
    "    if(num%2==0):\n",
    "        print(num,\" is composite number\")\n",
    "    else:\n",
    "        print(num,\" is prime number\")\n",
    "        \n",
    "        "
   ]
  },
  {
   "cell_type": "code",
   "execution_count": null,
   "id": "2b343016",
   "metadata": {},
   "outputs": [],
   "source": [
    "#palindrome\n",
    "num=int(input('Enter a number '))\n",
    "n=num\n",
    "p=0\n",
    "while(True):\n",
    "    if(num//10==0):\n",
    "        break\n",
    "    else:\n",
    "        i=num//10\n",
    "        num=i\n",
    "        p=p*10+i\n",
    "        \n",
    "        continue\n",
    "    \n",
    "if(p==n):\n",
    "    \n",
    "    print(n,' is palindrome')\n",
    "else:\n",
    "    print(n,' is not palindrome')"
   ]
  },
  {
   "cell_type": "code",
   "execution_count": 7,
   "id": "a4f776dd",
   "metadata": {},
   "outputs": [
    {
     "name": "stdout",
     "output_type": "stream",
     "text": [
      "Enter which side you want to find(oppposite/hypotenuse/adjacent)opp\n",
      "Enter Hypotenuse value5\n",
      "Enter Adjacent value3\n",
      "Value of third side is  4\n"
     ]
    }
   ],
   "source": [
    "# Third side of right angled triangle\n",
    "import numpy as np\n",
    "third_side=str(input('Enter which side you want to find(oppposite/hypotenuse/adjacent)'))\n",
    "if(third_side=='opp'):\n",
    "    a=int(input('Enter Hypotenuse value'))\n",
    "    b=int(input('Enter Adjacent value'))\n",
    "    c=int((a**2-b**2)**0.5)\n",
    "elif(third_side=='adj'):\n",
    "    a=int(input('Enter Hypotenuse value'))\n",
    "    b=int(input('Enter opposite value'))\n",
    "    c=int((a**2-b**2)**0.5)\n",
    "else:\n",
    "    a=int(input('Enter opposite value'))\n",
    "    b=int(input('Enter Adjacent value'))\n",
    "    c=int((a**2+b**2)**0.5)\n",
    "print('Value of third side is ',c)    \n",
    "    "
   ]
  },
  {
   "cell_type": "code",
   "execution_count": 8,
   "id": "b22c974b",
   "metadata": {},
   "outputs": [
    {
     "name": "stdout",
     "output_type": "stream",
     "text": [
      "Enter a word to find frequncthanisha\n",
      "count of all characters is  {'h': 2, 'a': 2, 'n': 1, 'i': 1, 's': 1}\n"
     ]
    }
   ],
   "source": [
    "word=str(input('Enter a word to find frequnct'))\n",
    "f={}\n",
    "for i in word:\n",
    "    if i in f:\n",
    "        f[i]+=1\n",
    "    else :\n",
    "        f[i]=1\n",
    "print('count of all characters is ',f)        "
   ]
  },
  {
   "cell_type": "code",
   "execution_count": null,
   "id": "9037ed58",
   "metadata": {},
   "outputs": [],
   "source": []
  }
 ],
 "metadata": {
  "kernelspec": {
   "display_name": "Python 3 (ipykernel)",
   "language": "python",
   "name": "python3"
  },
  "language_info": {
   "codemirror_mode": {
    "name": "ipython",
    "version": 3
   },
   "file_extension": ".py",
   "mimetype": "text/x-python",
   "name": "python",
   "nbconvert_exporter": "python",
   "pygments_lexer": "ipython3",
   "version": "3.9.12"
  }
 },
 "nbformat": 4,
 "nbformat_minor": 5
}
